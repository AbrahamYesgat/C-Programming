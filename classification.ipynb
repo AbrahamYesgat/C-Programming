{
  "nbformat": 4,
  "nbformat_minor": 0,
  "metadata": {
    "colab": {
      "provenance": [],
      "include_colab_link": true
    },
    "kernelspec": {
      "name": "python3",
      "display_name": "Python 3"
    },
    "widgets": {
      "application/vnd.jupyter.widget-state+json": {
        "75ac66aca2be4c5f924c662ec24c4a41": {
          "model_module": "@jupyter-widgets/controls",
          "model_name": "HBoxModel",
          "state": {
            "_view_name": "HBoxView",
            "_dom_classes": [],
            "_model_name": "HBoxModel",
            "_view_module": "@jupyter-widgets/controls",
            "_model_module_version": "1.5.0",
            "_view_count": null,
            "_view_module_version": "1.5.0",
            "box_style": "",
            "layout": "IPY_MODEL_852b4a4b81af410aa2f0639558525e7c",
            "_model_module": "@jupyter-widgets/controls",
            "children": [
              "IPY_MODEL_3abc5ad5e53a4c9284fc90e97efd5484",
              "IPY_MODEL_251b0880bf4c4144b14327aad20a8f86"
            ]
          },
          "model_module_version": "1.5.0"
        },
        "852b4a4b81af410aa2f0639558525e7c": {
          "model_module": "@jupyter-widgets/base",
          "model_name": "LayoutModel",
          "state": {
            "_view_name": "LayoutView",
            "grid_template_rows": null,
            "right": null,
            "justify_content": null,
            "_view_module": "@jupyter-widgets/base",
            "overflow": null,
            "_model_module_version": "1.2.0",
            "_view_count": null,
            "flex_flow": null,
            "width": null,
            "min_width": null,
            "border": null,
            "align_items": null,
            "bottom": null,
            "_model_module": "@jupyter-widgets/base",
            "top": null,
            "grid_column": null,
            "overflow_y": null,
            "overflow_x": null,
            "grid_auto_flow": null,
            "grid_area": null,
            "grid_template_columns": null,
            "flex": null,
            "_model_name": "LayoutModel",
            "justify_items": null,
            "grid_row": null,
            "max_height": null,
            "align_content": null,
            "visibility": null,
            "align_self": null,
            "height": null,
            "min_height": null,
            "padding": null,
            "grid_auto_rows": null,
            "grid_gap": null,
            "max_width": null,
            "order": null,
            "_view_module_version": "1.2.0",
            "grid_template_areas": null,
            "object_position": null,
            "object_fit": null,
            "grid_auto_columns": null,
            "margin": null,
            "display": null,
            "left": null
          },
          "model_module_version": "1.2.0"
        },
        "3abc5ad5e53a4c9284fc90e97efd5484": {
          "model_module": "@jupyter-widgets/controls",
          "model_name": "FloatProgressModel",
          "state": {
            "_view_name": "ProgressView",
            "style": "IPY_MODEL_2274d0cd3af6455e87665ad01319b0a3",
            "_dom_classes": [],
            "description": "100%",
            "_model_name": "FloatProgressModel",
            "bar_style": "success",
            "max": 553433881,
            "_view_module": "@jupyter-widgets/controls",
            "_model_module_version": "1.5.0",
            "value": 553433881,
            "_view_count": null,
            "_view_module_version": "1.5.0",
            "orientation": "horizontal",
            "min": 0,
            "description_tooltip": null,
            "_model_module": "@jupyter-widgets/controls",
            "layout": "IPY_MODEL_8fc762d0116e4b50979ab5c2daa4ded2"
          },
          "model_module_version": "1.5.0"
        },
        "251b0880bf4c4144b14327aad20a8f86": {
          "model_module": "@jupyter-widgets/controls",
          "model_name": "HTMLModel",
          "state": {
            "_view_name": "HTMLView",
            "style": "IPY_MODEL_03df95d28c0c4249a00f42a87a4d6c4b",
            "_dom_classes": [],
            "description": "",
            "_model_name": "HTMLModel",
            "placeholder": "​",
            "_view_module": "@jupyter-widgets/controls",
            "_model_module_version": "1.5.0",
            "value": " 528M/528M [00:02&lt;00:00, 207MB/s]",
            "_view_count": null,
            "_view_module_version": "1.5.0",
            "description_tooltip": null,
            "_model_module": "@jupyter-widgets/controls",
            "layout": "IPY_MODEL_eba51695b0c54b67818defc847ae037d"
          },
          "model_module_version": "1.5.0"
        },
        "2274d0cd3af6455e87665ad01319b0a3": {
          "model_module": "@jupyter-widgets/controls",
          "model_name": "ProgressStyleModel",
          "state": {
            "_view_name": "StyleView",
            "_model_name": "ProgressStyleModel",
            "description_width": "initial",
            "_view_module": "@jupyter-widgets/base",
            "_model_module_version": "1.5.0",
            "_view_count": null,
            "_view_module_version": "1.2.0",
            "bar_color": null,
            "_model_module": "@jupyter-widgets/controls"
          },
          "model_module_version": "1.5.0"
        },
        "8fc762d0116e4b50979ab5c2daa4ded2": {
          "model_module": "@jupyter-widgets/base",
          "model_name": "LayoutModel",
          "state": {
            "_view_name": "LayoutView",
            "grid_template_rows": null,
            "right": null,
            "justify_content": null,
            "_view_module": "@jupyter-widgets/base",
            "overflow": null,
            "_model_module_version": "1.2.0",
            "_view_count": null,
            "flex_flow": null,
            "width": null,
            "min_width": null,
            "border": null,
            "align_items": null,
            "bottom": null,
            "_model_module": "@jupyter-widgets/base",
            "top": null,
            "grid_column": null,
            "overflow_y": null,
            "overflow_x": null,
            "grid_auto_flow": null,
            "grid_area": null,
            "grid_template_columns": null,
            "flex": null,
            "_model_name": "LayoutModel",
            "justify_items": null,
            "grid_row": null,
            "max_height": null,
            "align_content": null,
            "visibility": null,
            "align_self": null,
            "height": null,
            "min_height": null,
            "padding": null,
            "grid_auto_rows": null,
            "grid_gap": null,
            "max_width": null,
            "order": null,
            "_view_module_version": "1.2.0",
            "grid_template_areas": null,
            "object_position": null,
            "object_fit": null,
            "grid_auto_columns": null,
            "margin": null,
            "display": null,
            "left": null
          },
          "model_module_version": "1.2.0"
        },
        "03df95d28c0c4249a00f42a87a4d6c4b": {
          "model_module": "@jupyter-widgets/controls",
          "model_name": "DescriptionStyleModel",
          "state": {
            "_view_name": "StyleView",
            "_model_name": "DescriptionStyleModel",
            "description_width": "",
            "_view_module": "@jupyter-widgets/base",
            "_model_module_version": "1.5.0",
            "_view_count": null,
            "_view_module_version": "1.2.0",
            "_model_module": "@jupyter-widgets/controls"
          },
          "model_module_version": "1.5.0"
        },
        "eba51695b0c54b67818defc847ae037d": {
          "model_module": "@jupyter-widgets/base",
          "model_name": "LayoutModel",
          "state": {
            "_view_name": "LayoutView",
            "grid_template_rows": null,
            "right": null,
            "justify_content": null,
            "_view_module": "@jupyter-widgets/base",
            "overflow": null,
            "_model_module_version": "1.2.0",
            "_view_count": null,
            "flex_flow": null,
            "width": null,
            "min_width": null,
            "border": null,
            "align_items": null,
            "bottom": null,
            "_model_module": "@jupyter-widgets/base",
            "top": null,
            "grid_column": null,
            "overflow_y": null,
            "overflow_x": null,
            "grid_auto_flow": null,
            "grid_area": null,
            "grid_template_columns": null,
            "flex": null,
            "_model_name": "LayoutModel",
            "justify_items": null,
            "grid_row": null,
            "max_height": null,
            "align_content": null,
            "visibility": null,
            "align_self": null,
            "height": null,
            "min_height": null,
            "padding": null,
            "grid_auto_rows": null,
            "grid_gap": null,
            "max_width": null,
            "order": null,
            "_view_module_version": "1.2.0",
            "grid_template_areas": null,
            "object_position": null,
            "object_fit": null,
            "grid_auto_columns": null,
            "margin": null,
            "display": null,
            "left": null
          },
          "model_module_version": "1.2.0"
        },
        "840faef6e7294742b18ef2de812ef7b8": {
          "model_module": "@jupyter-widgets/controls",
          "model_name": "HBoxModel",
          "state": {
            "_view_name": "HBoxView",
            "_dom_classes": [],
            "_model_name": "HBoxModel",
            "_view_module": "@jupyter-widgets/controls",
            "_model_module_version": "1.5.0",
            "_view_count": null,
            "_view_module_version": "1.5.0",
            "box_style": "",
            "layout": "IPY_MODEL_7f852f5c46ac4f0996350aa45afc897e",
            "_model_module": "@jupyter-widgets/controls",
            "children": [
              "IPY_MODEL_3d72a15b6f4f41b5baace3f8d53b8d19",
              "IPY_MODEL_fd482b7703ec47029ea273ba99a680b1"
            ]
          },
          "model_module_version": "1.5.0"
        },
        "7f852f5c46ac4f0996350aa45afc897e": {
          "model_module": "@jupyter-widgets/base",
          "model_name": "LayoutModel",
          "state": {
            "_view_name": "LayoutView",
            "grid_template_rows": null,
            "right": null,
            "justify_content": null,
            "_view_module": "@jupyter-widgets/base",
            "overflow": null,
            "_model_module_version": "1.2.0",
            "_view_count": null,
            "flex_flow": null,
            "width": null,
            "min_width": null,
            "border": null,
            "align_items": null,
            "bottom": null,
            "_model_module": "@jupyter-widgets/base",
            "top": null,
            "grid_column": null,
            "overflow_y": null,
            "overflow_x": null,
            "grid_auto_flow": null,
            "grid_area": null,
            "grid_template_columns": null,
            "flex": null,
            "_model_name": "LayoutModel",
            "justify_items": null,
            "grid_row": null,
            "max_height": null,
            "align_content": null,
            "visibility": null,
            "align_self": null,
            "height": null,
            "min_height": null,
            "padding": null,
            "grid_auto_rows": null,
            "grid_gap": null,
            "max_width": null,
            "order": null,
            "_view_module_version": "1.2.0",
            "grid_template_areas": null,
            "object_position": null,
            "object_fit": null,
            "grid_auto_columns": null,
            "margin": null,
            "display": null,
            "left": null
          },
          "model_module_version": "1.2.0"
        },
        "3d72a15b6f4f41b5baace3f8d53b8d19": {
          "model_module": "@jupyter-widgets/controls",
          "model_name": "FloatProgressModel",
          "state": {
            "_view_name": "ProgressView",
            "style": "IPY_MODEL_d47f51309f8f436089607a5c0a1fe99d",
            "_dom_classes": [],
            "description": "100%",
            "_model_name": "FloatProgressModel",
            "bar_style": "success",
            "max": 15,
            "_view_module": "@jupyter-widgets/controls",
            "_model_module_version": "1.5.0",
            "value": 15,
            "_view_count": null,
            "_view_module_version": "1.5.0",
            "orientation": "horizontal",
            "min": 0,
            "description_tooltip": null,
            "_model_module": "@jupyter-widgets/controls",
            "layout": "IPY_MODEL_4fd0246e67194689b4a8bebeead44dde"
          },
          "model_module_version": "1.5.0"
        },
        "fd482b7703ec47029ea273ba99a680b1": {
          "model_module": "@jupyter-widgets/controls",
          "model_name": "HTMLModel",
          "state": {
            "_view_name": "HTMLView",
            "style": "IPY_MODEL_30de9f8890a34b9b83743d6e1dc3470d",
            "_dom_classes": [],
            "description": "",
            "_model_name": "HTMLModel",
            "placeholder": "​",
            "_view_module": "@jupyter-widgets/controls",
            "_model_module_version": "1.5.0",
            "value": " 15/15 [52:42&lt;00:00, 210.80s/it]",
            "_view_count": null,
            "_view_module_version": "1.5.0",
            "description_tooltip": null,
            "_model_module": "@jupyter-widgets/controls",
            "layout": "IPY_MODEL_65e8d758568c4020a5b82b7634721bcc"
          },
          "model_module_version": "1.5.0"
        },
        "d47f51309f8f436089607a5c0a1fe99d": {
          "model_module": "@jupyter-widgets/controls",
          "model_name": "ProgressStyleModel",
          "state": {
            "_view_name": "StyleView",
            "_model_name": "ProgressStyleModel",
            "description_width": "initial",
            "_view_module": "@jupyter-widgets/base",
            "_model_module_version": "1.5.0",
            "_view_count": null,
            "_view_module_version": "1.2.0",
            "bar_color": null,
            "_model_module": "@jupyter-widgets/controls"
          },
          "model_module_version": "1.5.0"
        },
        "4fd0246e67194689b4a8bebeead44dde": {
          "model_module": "@jupyter-widgets/base",
          "model_name": "LayoutModel",
          "state": {
            "_view_name": "LayoutView",
            "grid_template_rows": null,
            "right": null,
            "justify_content": null,
            "_view_module": "@jupyter-widgets/base",
            "overflow": null,
            "_model_module_version": "1.2.0",
            "_view_count": null,
            "flex_flow": null,
            "width": null,
            "min_width": null,
            "border": null,
            "align_items": null,
            "bottom": null,
            "_model_module": "@jupyter-widgets/base",
            "top": null,
            "grid_column": null,
            "overflow_y": null,
            "overflow_x": null,
            "grid_auto_flow": null,
            "grid_area": null,
            "grid_template_columns": null,
            "flex": null,
            "_model_name": "LayoutModel",
            "justify_items": null,
            "grid_row": null,
            "max_height": null,
            "align_content": null,
            "visibility": null,
            "align_self": null,
            "height": null,
            "min_height": null,
            "padding": null,
            "grid_auto_rows": null,
            "grid_gap": null,
            "max_width": null,
            "order": null,
            "_view_module_version": "1.2.0",
            "grid_template_areas": null,
            "object_position": null,
            "object_fit": null,
            "grid_auto_columns": null,
            "margin": null,
            "display": null,
            "left": null
          },
          "model_module_version": "1.2.0"
        },
        "30de9f8890a34b9b83743d6e1dc3470d": {
          "model_module": "@jupyter-widgets/controls",
          "model_name": "DescriptionStyleModel",
          "state": {
            "_view_name": "StyleView",
            "_model_name": "DescriptionStyleModel",
            "description_width": "",
            "_view_module": "@jupyter-widgets/base",
            "_model_module_version": "1.5.0",
            "_view_count": null,
            "_view_module_version": "1.2.0",
            "_model_module": "@jupyter-widgets/controls"
          },
          "model_module_version": "1.5.0"
        },
        "65e8d758568c4020a5b82b7634721bcc": {
          "model_module": "@jupyter-widgets/base",
          "model_name": "LayoutModel",
          "state": {
            "_view_name": "LayoutView",
            "grid_template_rows": null,
            "right": null,
            "justify_content": null,
            "_view_module": "@jupyter-widgets/base",
            "overflow": null,
            "_model_module_version": "1.2.0",
            "_view_count": null,
            "flex_flow": null,
            "width": null,
            "min_width": null,
            "border": null,
            "align_items": null,
            "bottom": null,
            "_model_module": "@jupyter-widgets/base",
            "top": null,
            "grid_column": null,
            "overflow_y": null,
            "overflow_x": null,
            "grid_auto_flow": null,
            "grid_area": null,
            "grid_template_columns": null,
            "flex": null,
            "_model_name": "LayoutModel",
            "justify_items": null,
            "grid_row": null,
            "max_height": null,
            "align_content": null,
            "visibility": null,
            "align_self": null,
            "height": null,
            "min_height": null,
            "padding": null,
            "grid_auto_rows": null,
            "grid_gap": null,
            "max_width": null,
            "order": null,
            "_view_module_version": "1.2.0",
            "grid_template_areas": null,
            "object_position": null,
            "object_fit": null,
            "grid_auto_columns": null,
            "margin": null,
            "display": null,
            "left": null
          },
          "model_module_version": "1.2.0"
        }
      }
    },
    "accelerator": "GPU"
  },
  "cells": [
    {
      "cell_type": "markdown",
      "metadata": {
        "id": "view-in-github",
        "colab_type": "text"
      },
      "source": [
        "<a href=\"https://colab.research.google.com/github/AbrahamYesgat/C-Programming/blob/master/classification.ipynb\" target=\"_parent\"><img src=\"https://colab.research.google.com/assets/colab-badge.svg\" alt=\"Open In Colab\"/></a>"
      ]
    },
    {
      "cell_type": "code",
      "metadata": {
        "id": "hI2qVbv9veO9"
      },
      "source": [
        "import torch\n",
        "import torch.nn as nn\n",
        "import torch.nn.functional as F\n",
        "import matplotlib.pyplot as plt\n",
        "import pickle as pk\n",
        "import torchvision.models as models\n",
        "from torchvision import transforms\n",
        "from torch.utils.data import Dataset, DataLoader\n",
        "import pandas as pd\n",
        "import numpy as np\n",
        "import cv2\n",
        "from tqdm import tqdm_notebook as tqdm\n",
        "from sklearn import metrics\n",
        "from PIL import Image\n",
        "import random\n",
        "from sklearn.metrics import f1_score, precision_score, roc_auc_score, recall_score, roc_curve\n",
        "from sklearn.model_selection import train_test_split\n",
        "import itertools\n",
        "import math"
      ],
      "execution_count": null,
      "outputs": []
    },
    {
      "cell_type": "markdown",
      "metadata": {
        "id": "AEXGsbEsEivp"
      },
      "source": [
        "#Dataset Loading"
      ]
    },
    {
      "cell_type": "code",
      "metadata": {
        "colab": {
          "base_uri": "https://localhost:8080/"
        },
        "id": "Hi-CRUZAE5mj",
        "outputId": "69ab8f36-78d1-4d91-dcda-779ad8ad5786"
      },
      "source": [
        "from google.colab import drive\n",
        "drive.mount('/content/drive')\n"
      ],
      "execution_count": null,
      "outputs": [
        {
          "output_type": "stream",
          "text": [
            "Mounted at /content/drive\n"
          ],
          "name": "stdout"
        }
      ]
    },
    {
      "cell_type": "code",
      "metadata": {
        "id": "sUYlMMsvVvjT"
      },
      "source": [
        "class ISICDataset(Dataset):\n",
        "    def __init__(self, im_path='ISIC-2017_Training_Data',\n",
        "                 label_file='ISIC-2017_Training_Lesion_Labels.csv', transforms=None):\n",
        "        super(ISICDataset, self).__init__()\n",
        "        self.im_files = im_path\n",
        "        self.lesion_labels = pd.read_csv(label_file).to_numpy()\n",
        "        self.transforms = transforms\n",
        "\n",
        "    def __getitem__(self, index):\n",
        "        filename = self.lesion_labels[index][0]\n",
        "        img = Image.open((self.im_files + '/' + filename + '.jpg'))\n",
        "        lesion = self.lesion_labels[index][1]\n",
        "        if self.transforms is not None:\n",
        "            img = self.transforms(img)\n",
        "        return img, lesion\n",
        "\n",
        "    def __len__(self):\n",
        "        return len(self.lesion_labels)\n",
        "\n",
        "\n",
        "\n",
        "def get_dataset(p=1.0):\n",
        "    label_file = '/content/drive/My Drive/ECSE_552_Project/ISIC-2017_Training_Lesion_Labels.csv'\n",
        "    seg_file = '/content/drive/My Drive/ECSE_552_Project/ISIC-2017_Training_Segmentation'\n",
        "    im_file = '/content/drive/My Drive/ECSE_552_Project/ISIC-2017_Training_Data'\n",
        "    train_label = '/content/drive/My Drive/ECSE_552_Project/train1.csv'\n",
        "    val_label = '/content/drive/My Drive/ECSE_552_Project/val1.csv'\n",
        "    label_df = pd.read_csv(label_file)\n",
        "    pos_labels = label_df[label_df['melanoma'] > 0.0].reset_index(drop=True)\n",
        "    neg_labels = label_df[label_df['melanoma'] < 1.0].reset_index(drop=True)\n",
        "    pos_train, pos_val = train_test_split(pos_labels, test_size=0.2)\n",
        "    neg_train, neg_val = train_test_split(neg_labels, test_size=0.2)\n",
        "    len_pos = len(pos_val)\n",
        "    train = pd.concat([pos_train, neg_train]).sample(frac=p)\n",
        "    val = pd.concat([pos_val, neg_val.iloc[:len_pos]])\n",
        "\n",
        "    train.to_csv(train_label, index=False)\n",
        "    val.to_csv(val_label, index=False)\n",
        "\n",
        "    transform_train = transforms.Compose([transforms.Resize((256, 512)),\n",
        "                                transforms.ToTensor(),\n",
        "                                transforms.ColorJitter(0.25, 0.25, 0.25, 0.25),\n",
        "                                transforms.Normalize(mean=[0.485, 0.456, 0.406], std=[0.229, 0.224, 0.225]),\n",
        "                                transforms.RandomHorizontalFlip(p=0.5),\n",
        "                                transforms.RandomVerticalFlip(p=0.5)\n",
        "                                ])\n",
        "\n",
        "    transform_val = transforms.Compose([transforms.Resize((256, 512)),\n",
        "                                transforms.ToTensor(),\n",
        "                                transforms.Normalize(mean=[0.485, 0.456, 0.406], std=[0.229, 0.224, 0.225])])\n",
        "\n",
        "    train_set = ISICDataset(im_path=im_file, label_file=train_label, transforms=transform_train)\n",
        "    val_set = ISICDataset(im_path=im_file, label_file=val_label, transforms=transform_val)\n",
        "\n",
        "\n",
        "    return train_set, val_set\n",
        "\n",
        "\n",
        "def get_testet():\n",
        "    label_file = '/content/drive/My Drive/ECSE_552_Project/ISIC-2017_Testing_Lesion_Labels.csv'\n",
        "    seg_file = '/content/drive/My Drive/ECSE_552_Project/ISIC-2017_Testing_Segmentation'\n",
        "    im_file = '/content/drive/My Drive/ECSE_552_Project/ISIC-2017_Testing_Data'\n",
        "    test_label = '/content/drive/My Drive/ECSE_552_Project/test.csv'\n",
        "    label_df = pd.read_csv(label_file)\n",
        "    pos_labels = label_df[label_df['melanoma'] > 0.0].reset_index(drop=True)\n",
        "    neg_labels = label_df[label_df['melanoma'] < 1.0].reset_index(drop=True)\n",
        "    test = pd.concat([pos_labels, neg_labels])\n",
        "\n",
        "    test.to_csv(test_label, index=False)\n",
        "\n",
        "\n",
        "\n",
        "    transform_test= transforms.Compose([transforms.Resize((256, 512)),\n",
        "                                transforms.ToTensor(),\n",
        "                                transforms.Normalize(mean=[0.485, 0.456, 0.406], std=[0.229, 0.224, 0.225])])\n",
        "\n",
        "    test_set = ISICDataset(im_path=im_file, label_file=test_label, transforms=transform_test)\n",
        "\n",
        "\n",
        "    return test_set"
      ],
      "execution_count": null,
      "outputs": []
    },
    {
      "cell_type": "code",
      "metadata": {
        "id": "YXno90BVSL2c",
        "colab": {
          "base_uri": "https://localhost:8080/"
        },
        "outputId": "f07c2b86-0818-4d8f-f95d-08eb3e8435c9"
      },
      "source": [
        "# %cd /content/drive/MyDrive/ECSE_552_Project\n",
        "# %run utils.ipynb\n",
        "label_file = '/content/drive/My Drive/ECSE_552_Project/ISIC-2017_Training_Lesion_Labels.csv'\n",
        "seg_file = '/content/drive/My Drive/ECSE_552_Project/ISIC-2017_Training_Segmentation'\n",
        "im_file = '/content/drive/My Drive/ECSE_552_Project/ISIC-2017_Training_Data'\n",
        "\n",
        "train_set, val_set = get_dataset()#torch.utils.data.random_split(train_data, [train_len, val_len])\n",
        "pos = sum(train_set.lesion_labels[:,1])\n",
        "neg = len(train_set.lesion_labels) - (sum(train_set.lesion_labels[:,1]))\n",
        "print(\"Number of positive labels in entire dataset: \",pos )\n",
        "print(\"Number of negative labels in entire dataset: \" , neg)\n",
        "fraction = neg/pos\n",
        "print(\"Fraction of negative to positive labels is: \", fraction)"
      ],
      "execution_count": null,
      "outputs": [
        {
          "output_type": "stream",
          "text": [
            "Number of positive labels in entire dataset:  299.0\n",
            "Number of negative labels in entire dataset:  1300.0\n",
            "Fraction of negative to positive labels is:  4.3478260869565215\n"
          ],
          "name": "stdout"
        }
      ]
    },
    {
      "cell_type": "code",
      "metadata": {
        "id": "V1lJyIzLSYDk"
      },
      "source": [
        "path_backup = '/content/drive/My Drive/ECSE_552_Project/cls_model_backup_exp05.pth'\n",
        "path_final = '/content/drive/My Drive/ECSE_552_Project/cls_model_exp05.pth'\n",
        "path_record = '/content/drive/My Drive/ECSE_552_Project/cls_model_record.pth'"
      ],
      "execution_count": null,
      "outputs": []
    },
    {
      "cell_type": "code",
      "metadata": {
        "id": "k7syvavvva4M"
      },
      "source": [],
      "execution_count": null,
      "outputs": []
    },
    {
      "cell_type": "markdown",
      "metadata": {
        "id": "KzuaIrcOwJB6"
      },
      "source": [
        "# Model Definition"
      ]
    },
    {
      "cell_type": "code",
      "metadata": {
        "id": "HhxK7qCK2z_V"
      },
      "source": [
        "class Logger():\n",
        "    def __init__(self, name):\n",
        "        self.name = name\n",
        "        self.train_loss = []\n",
        "        self.val_loss = []\n",
        "\n",
        "        self.train_acc = []\n",
        "        self.val_acc = []\n",
        "\n",
        "        self.train_recall = []\n",
        "        self.val_recall = []\n",
        "\n",
        "        self.train_f1score = []\n",
        "        self.val_f1score = []\n",
        "\n",
        "        self.train_precision = []\n",
        "        self.val_precision = []\n",
        "        self.test_acc = 0\n",
        "        self.test_precision = 0\n",
        "        self.test_recall = 0\n",
        "        self.test_f1score = 0\n",
        "\n",
        "        self.fpr = 0\n",
        "        self.tpr = 0\n",
        "        self.roc_auc = 0\n",
        "\n",
        "        self.iterations = []\n",
        "        self.epoch = 0\n",
        "        self.test_performace = 0\n",
        "        # add a means to save the model parameters and hyperparams maybe\n",
        "        self.parameters = None\n",
        "\n",
        "    def update(self, train_loss, val_loss, train_acc, val_acc, train_recall, val_recall, train_f1score, val_f1score, train_precision, val_precision):\n",
        "        self.train_loss.append(train_loss)\n",
        "        self.val_loss.append(val_loss)\n",
        "        self.train_acc.append(train_acc)\n",
        "        self.val_acc.append(val_acc)\n",
        "\n",
        "        self.train_recall.append(train_recall)\n",
        "        self.val_recall.append(val_recall)\n",
        "\n",
        "        self.train_f1score.append(train_f1score)\n",
        "        self.val_f1score.append(val_f1score)\n",
        "\n",
        "        self.train_precision.append(train_precision)\n",
        "        self.val_precision.append(val_precision)\n",
        "\n",
        "        self.epoch += 1\n",
        "        self.iterations.append(self.epoch)\n",
        "\n",
        "    def display(self):\n",
        "        print(\"Train Loss:\", self.train_loss[-1])\n",
        "        print(\"Val Loss:\", self.val_loss[-1])\n",
        "        print(\"Train Acc:\", self.train_acc[-1])\n",
        "        print(\"Val Acc:\", self.val_acc[-1])\n",
        "\n",
        "        print(\"Train Recall:\", self.train_recall[-1])\n",
        "        print(\"Val Recall:\", self.val_recall[-1])\n",
        "        print(\"Train F1-Score:\", self.train_f1score[-1])\n",
        "        print(\"Val F1-Score:\", self.val_f1score[-1])\n",
        "        print(\"Train Precision:\", self.train_precision[-1])\n",
        "        print(\"Val Precision:\", self.val_precision[-1])\n",
        "\n",
        "    def plot_loss(self):\n",
        "        plt.plot(self.iterations, np.array(self.train_loss), label=\"Training Loss\")\n",
        "        plt.plot(self.iterations, np.array(self.val_loss), label=\"Validation Loss\")\n",
        "        plt.legend()\n",
        "        plt.xlabel(\"Epoch\")\n",
        "        plt.ylabel(\"Loss\")\n",
        "        plt.plot()\n",
        "        plt.show()\n",
        "\n",
        "    def plot_acc(self):\n",
        "        plt.plot(self.iterations, np.array(self.train_acc), label=\"Training Accuracy\")\n",
        "        plt.plot(self.iterations, np.array(self.val_acc), label=\"Validation Accuracy\")\n",
        "        plt.legend()\n",
        "        plt.xlabel(\"Epoch\")\n",
        "        plt.ylabel(\"Accuracy\")\n",
        "        plt.plot()\n",
        "        plt.show()\n",
        "\n",
        "\n",
        "    def plot_recall(self):\n",
        "        plt.plot(self.iterations, np.array(self.train_recall), label=\"Training Recall\")\n",
        "        plt.plot(self.iterations, np.array(self.val_recall), label=\"Validation Recall\")\n",
        "        plt.legend()\n",
        "        plt.xlabel(\"Epoch\")\n",
        "        plt.ylabel(\"Recall\")\n",
        "        plt.plot()\n",
        "        plt.show()\n",
        "\n",
        "\n",
        "    def plot_roc(self):\n",
        "        plt.title('Receiver Operating Characteristic')\n",
        "        plt.plot(self.fpr, self.tpr, 'b', label = 'AUC = %0.2f' % self.roc_auc)\n",
        "        plt.legend(loc = 'lower right')\n",
        "        plt.plot([0, 1], [0, 1],'r--')\n",
        "        plt.xlim([0, 1])\n",
        "        plt.ylim([0, 1])\n",
        "        plt.ylabel('True Positive Rate')\n",
        "        plt.xlabel('False Positive Rate')\n",
        "        plt.show()\n",
        "\n",
        "    def plot_f1score(self):\n",
        "        plt.plot(self.iterations, np.array(self.train_f1score), label=\"Training f1-score\")\n",
        "        plt.plot(self.iterations, np.array(self.val_f1score), label=\"Validation f1-score\")\n",
        "        plt.legend()\n",
        "        plt.xlabel(\"Epoch\")\n",
        "        plt.ylabel(\"F1-Score\")\n",
        "        plt.plot()\n",
        "        plt.show()\n",
        "\n",
        "    def plot_precision(self):\n",
        "        plt.plot(self.iterations, np.array(self.train_precision), label=\"Training precision\")\n",
        "        plt.plot(self.iterations, np.array(self.val_precision), label=\"Validation precision\")\n",
        "        plt.legend()\n",
        "        plt.xlabel(\"Epoch\")\n",
        "        plt.ylabel(\"Precision\")\n",
        "        plt.plot()\n",
        "        plt.show()\n",
        "\n",
        "    def save(self):\n",
        "        pk.dump(self, open(name+\".pk\", 'wb'))\n"
      ],
      "execution_count": null,
      "outputs": []
    },
    {
      "cell_type": "code",
      "metadata": {
        "id": "yMNChzxIw5Z9"
      },
      "source": [
        "class Classification():\n",
        "    def __init__(self, mode='train', train_set=None, val_set=None,\n",
        "                 test_set=None, lr=0.001, batch_size=8, weight_fraction = torch.tensor(4.3)):\n",
        "        # set all hyperparameters here\n",
        "        self.lr = lr\n",
        "        self.batch_size = batch_size\n",
        "        self.weight_fraction = weight_fraction\n",
        "        self.net = models.vgg16(pretrained=True)\n",
        "\n",
        "        self.net.classifier = nn.Sequential(\n",
        "            nn.Dropout(0.5, inplace = False),\n",
        "            nn.Linear(in_features=25088, out_features=1024, bias=True),\n",
        "            self.net.classifier[1],\n",
        "            self.net.classifier[2],\n",
        "            nn.Linear(in_features=1024, out_features=1, bias=True),\n",
        "        )\n",
        "\n",
        "        # get data loaders from custom dataset\n",
        "        if mode == 'train':\n",
        "            self.train_loader = torch.utils.data.DataLoader(train_set, shuffle=True,batch_size=self.batch_size, drop_last = True)\n",
        "            self.val_loader = torch.utils.data.DataLoader(val_set, shuffle=True,batch_size=self.batch_size, drop_last = True)\n",
        "        else:\n",
        "            self.test_loader = torch.utils.data.DataLoader(test_set, shuffle=True,batch_size=self.batch_size)\n",
        "\n",
        "        # check gpu connection\n",
        "        self.device = torch.device(\"cuda:0\" if torch.cuda.is_available() else \"cpu\")\n",
        "        self.net = self.net.to(self.device)\n",
        "\n",
        "        # use ADAM optimizer\n",
        "        self.optimizer = torch.optim.Adam(self.net.parameters(), lr=self.lr)\n",
        "\n",
        "        self.logs = Logger(self.net.__class__.__name__)\n",
        "\n",
        "    def train(self, max_epoch, weight_fraction):\n",
        "        # set loss criteria\n",
        "        if weight_fraction  == 0:\n",
        "          weight_fraction = None\n",
        "        self.weight_fraction = weight_fraction\n",
        "        criterion = nn.BCEWithLogitsLoss(reduction='sum', pos_weight=weight_fraction)\n",
        "        record = -math.inf\n",
        "        for epoch in tqdm(range(max_epoch)):\n",
        "            train_loss, val_loss = 0, 0\n",
        "            train_acc, val_acc = 0, 0\n",
        "            train_recall, val_recall = 0, 0\n",
        "            train_f1score, val_f1score = 0, 0\n",
        "            train_precision, val_precision = 0, 0\n",
        "\n",
        "            train_acc, val_acc = 0, 0\n",
        "\n",
        "            total = 0\n",
        "            all_predictions, all_labels = [], []\n",
        "            # training section\n",
        "            self.net.train()\n",
        "            total_scores = 0\n",
        "            for img,lesion in self.train_loader:\n",
        "                img, lesion = img.to(self.device), lesion.unsqueeze(1).float().to(self.device)\n",
        "                self.optimizer.zero_grad()\n",
        "                outputs = self.net(img)\n",
        "                loss = criterion(outputs, lesion)\n",
        "\n",
        "                prediction = torch.sigmoid(outputs)\n",
        "                all_predictions.append(prediction.squeeze().cpu().flatten().tolist())\n",
        "                all_labels.append(lesion.squeeze().cpu().flatten().tolist())\n",
        "                loss.backward()\n",
        "                self.optimizer.step()\n",
        "\n",
        "                train_loss += loss.item()\n",
        "                total += lesion.size(0)\n",
        "\n",
        "            if epoch % 10 == 0:\n",
        "              torch.save({\n",
        "              'epoch': epoch,\n",
        "              'model_state_dict': self.net.state_dict()\n",
        "              }, path_backup)\n",
        "\n",
        "            train_loss = train_loss / total\n",
        "            train_precision, train_recall, train_f1score, train_acc = self.evaluate_performance(all_labels, all_predictions)\n",
        "\n",
        "\n",
        "            print('Epoch Done', train_loss, train_acc)\n",
        "            torch.save({\n",
        "            'epoch': epoch,\n",
        "            'model_state_dict': self.net.state_dict()\n",
        "            }, path_final)\n",
        "\n",
        "            # total = 0\n",
        "            # self.net.eval()\n",
        "            # all_predictions, all_labels = [], []\n",
        "            # with torch.no_grad():\n",
        "            #     for img, lesion in self.val_loader:\n",
        "            #         img, lesion = img.to(self.device), lesion.unsqueeze(1).float().to(self.device)\n",
        "            #         img = img.to(self.device)\n",
        "            #         outputs = self.net(img)\n",
        "            #         prediction = torch.sigmoid(outputs)\n",
        "\n",
        "            #         all_predictions.append(prediction.squeeze().cpu().flatten().tolist())\n",
        "            #         all_labels.append(lesion.squeeze().cpu().flatten().tolist())\n",
        "\n",
        "            #         val_loss += criterion(outputs, lesion).item()\n",
        "            #         total += lesion.size(0)\n",
        "\n",
        "            # val_loss /= total\n",
        "            # all_predictions = [item for sublist in all_predictions for item in sublist]\n",
        "            # all_labels =  [item for sublist in all_labels for item in sublist]\n",
        "\n",
        "            # val_precision, val_recall ,val_f1score, val_acc = self.evaluate_performance(all_labels,all_predictions)\n",
        "            # if val_acc > record:\n",
        "            #     print(\"Optimal Accuracy = \", val_acc, \" ... saving model\" )\n",
        "            #     record = val_acc\n",
        "            #     torch.save({\n",
        "            #     'model_state_dict': self.net.state_dict()\n",
        "            #     }, path_record)\n",
        "\n",
        "\n",
        "            self.logs.update(train_loss, val_loss, train_acc, val_acc, train_recall, val_recall,train_f1score, val_f1score, train_precision, val_precision)\n",
        "            print('Epoch:', epoch, \"Train Loss:\", train_loss, \"Val Loss:\",\n",
        "                  val_loss, \"Train Acc:\", train_acc, \"Val Acc:\", val_acc, \"Train recall:\", train_recall, \"Val: recall\", val_recall)\n",
        "\n",
        "    def evaluate_performance(self, all_labels, all_predictions):\n",
        "      # function which returns the performance using a chosen metric\n",
        "        all_labels = torch.tensor(all_labels)\n",
        "        all_predictions = torch.tensor(all_predictions)\n",
        "        all_labels = torch.flatten(all_labels)\n",
        "        all_predictions = torch.flatten(all_predictions)\n",
        "        all_predictions = (all_predictions.float() > 0.5).float()\n",
        "        recall = recall_score(all_labels, all_predictions)\n",
        "        accuracy = (torch.sum((all_predictions == all_labels).float()))/len(all_labels)\n",
        "        precision = precision_score(all_labels, all_predictions)\n",
        "        f1score = f1_score(all_labels, all_predictions)\n",
        "        return precision, recall, f1score, accuracy\n",
        "\n",
        "    def evaluate_test_performance(self, test_set):\n",
        "        test_acc , test_precision, test_recall, test_f1score, total_scores = 0,0,0,0,0\n",
        "        total = 0\n",
        "        val_loss = 0\n",
        "        criterion = nn.BCEWithLogitsLoss(reduction='sum', pos_weight=self.weight_fraction)\n",
        "        self.net.eval()\n",
        "        self.batch_size = 1\n",
        "        self.test_loader = torch.utils.data.DataLoader(test_set, shuffle=True,batch_size=1)\n",
        "        all_predictions, all_labels = [], []\n",
        "        with torch.no_grad():\n",
        "            for img, lesion in self.test_loader:\n",
        "              img, lesion = img.to(self.device), lesion.unsqueeze(1).float().to(self.device)\n",
        "              img = img.to(self.device)\n",
        "              outputs = self.net(img)\n",
        "              prediction = torch.sigmoid(outputs)\n",
        "\n",
        "              all_predictions.append(prediction.squeeze().cpu().flatten().tolist())\n",
        "              all_labels.append(lesion.squeeze().cpu().flatten().tolist())\n",
        "\n",
        "              val_loss += criterion(outputs, lesion).item()\n",
        "              total += lesion.size(0)\n",
        "\n",
        "        val_loss /= total\n",
        "\n",
        "        print(all_labels)\n",
        "        print(all_predictions)\n",
        "\n",
        "        all_predictions = list(itertools.chain.from_iterable(all_predictions))\n",
        "        all_labels = list(itertools.chain.from_iterable(all_labels))\n",
        "        print(all_predictions)\n",
        "        print(all_labels)\n",
        "        val_precision, val_recall ,val_f1score, val_acc = self.evaluate_performance(all_labels,all_predictions)\n",
        "\n",
        "\n",
        "        fpr, tpr, threshold = roc_curve(all_labels, all_predictions)\n",
        "        roc_auc = metrics.auc(fpr, tpr)\n",
        "        self.logs.fpr = fpr\n",
        "        self.logs.tpr = tpr\n",
        "        self.logs.roc_auc = roc_auc\n",
        "        self.logs.plot_roc()\n",
        "\n",
        "        print(\"Accuracy: \", val_acc, \"\\nPrecision: \", val_precision , \"\\nRecall: \", val_recall, \"\\nF1-Score: \", val_f1score)\n"
      ],
      "execution_count": null,
      "outputs": []
    },
    {
      "cell_type": "markdown",
      "metadata": {
        "id": "uldwe--czG12"
      },
      "source": [
        "# Optimal Model\n",
        "\n",
        "### Learning rate: 1e-6\n",
        "### Batch Size: 8\n",
        "### weight fraction: 4.37\n",
        "\n",
        "\n",
        "### Reduced dataset, 100%, 75%, 50, 25\n"
      ]
    },
    {
      "cell_type": "code",
      "metadata": {
        "id": "8oz77pzHzR4z",
        "colab": {
          "base_uri": "https://localhost:8080/",
          "height": 688,
          "referenced_widgets": [
            "75ac66aca2be4c5f924c662ec24c4a41",
            "852b4a4b81af410aa2f0639558525e7c",
            "3abc5ad5e53a4c9284fc90e97efd5484",
            "251b0880bf4c4144b14327aad20a8f86",
            "2274d0cd3af6455e87665ad01319b0a3",
            "8fc762d0116e4b50979ab5c2daa4ded2",
            "03df95d28c0c4249a00f42a87a4d6c4b",
            "eba51695b0c54b67818defc847ae037d",
            "840faef6e7294742b18ef2de812ef7b8",
            "7f852f5c46ac4f0996350aa45afc897e",
            "3d72a15b6f4f41b5baace3f8d53b8d19",
            "fd482b7703ec47029ea273ba99a680b1",
            "d47f51309f8f436089607a5c0a1fe99d",
            "4fd0246e67194689b4a8bebeead44dde",
            "30de9f8890a34b9b83743d6e1dc3470d",
            "65e8d758568c4020a5b82b7634721bcc"
          ]
        },
        "outputId": "b44ae8cc-78b3-445b-8cdb-c06997d37fdb"
      },
      "source": [
        "train_set, val_set = get_dataset(p=0.5)\n",
        "classification = Classification(train_set=train_set, val_set=val_set, lr=1e-6, batch_size=8, weight_fraction=torch.tensor(fraction))\n",
        "classification.train(max_epoch=15, weight_fraction=torch.tensor(fraction))\n"
      ],
      "execution_count": null,
      "outputs": [
        {
          "output_type": "stream",
          "text": [
            "Downloading: \"https://download.pytorch.org/models/vgg16-397923af.pth\" to /root/.cache/torch/hub/checkpoints/vgg16-397923af.pth\n"
          ],
          "name": "stderr"
        },
        {
          "output_type": "display_data",
          "data": {
            "application/vnd.jupyter.widget-view+json": {
              "model_id": "75ac66aca2be4c5f924c662ec24c4a41",
              "version_minor": 0,
              "version_major": 2
            },
            "text/plain": [
              "HBox(children=(FloatProgress(value=0.0, max=553433881.0), HTML(value='')))"
            ]
          },
          "metadata": {
            "tags": []
          }
        },
        {
          "output_type": "stream",
          "text": [
            "\n"
          ],
          "name": "stdout"
        },
        {
          "output_type": "stream",
          "text": [
            "/usr/local/lib/python3.7/dist-packages/ipykernel_launcher.py:41: TqdmDeprecationWarning: This function will be removed in tqdm==5.0.0\n",
            "Please use `tqdm.notebook.tqdm` instead of `tqdm.tqdm_notebook`\n"
          ],
          "name": "stderr"
        },
        {
          "output_type": "display_data",
          "data": {
            "application/vnd.jupyter.widget-view+json": {
              "model_id": "840faef6e7294742b18ef2de812ef7b8",
              "version_minor": 0,
              "version_major": 2
            },
            "text/plain": [
              "HBox(children=(FloatProgress(value=0.0, max=15.0), HTML(value='')))"
            ]
          },
          "metadata": {
            "tags": []
          }
        },
        {
          "output_type": "stream",
          "text": [
            "Epoch Done 1.1604180663824082 tensor(0.6025)\n",
            "Epoch: 0 Train Loss: 1.1604180663824082 Val Loss: 0 Train Acc: tensor(0.6025) Val Acc: 0 Train recall: 0.21794871794871795 Val: recall 0\n",
            "Epoch Done 1.1374368876218797 tensor(0.6662)\n",
            "Epoch: 1 Train Loss: 1.1374368876218797 Val Loss: 0 Train Acc: tensor(0.6662) Val Acc: 0 Train recall: 0.3141025641025641 Val: recall 0\n",
            "Epoch Done 1.1298175477981567 tensor(0.6363)\n",
            "Epoch: 2 Train Loss: 1.1298175477981567 Val Loss: 0 Train Acc: tensor(0.6363) Val Acc: 0 Train recall: 0.5256410256410257 Val: recall 0\n",
            "Epoch Done 1.1150602382421493 tensor(0.5875)\n",
            "Epoch: 3 Train Loss: 1.1150602382421493 Val Loss: 0 Train Acc: tensor(0.5875) Val Acc: 0 Train recall: 0.6217948717948718 Val: recall 0\n",
            "Epoch Done 1.1255245232582092 tensor(0.6037)\n",
            "Epoch: 4 Train Loss: 1.1255245232582092 Val Loss: 0 Train Acc: tensor(0.6037) Val Acc: 0 Train recall: 0.5448717948717948 Val: recall 0\n",
            "Epoch Done 1.0818469882011414 tensor(0.6137)\n",
            "Epoch: 5 Train Loss: 1.0818469882011414 Val Loss: 0 Train Acc: tensor(0.6137) Val Acc: 0 Train recall: 0.7243589743589743 Val: recall 0\n",
            "Epoch Done 1.065901553630829 tensor(0.6625)\n",
            "Epoch: 6 Train Loss: 1.065901553630829 Val Loss: 0 Train Acc: tensor(0.6625) Val Acc: 0 Train recall: 0.6730769230769231 Val: recall 0\n",
            "Epoch Done 1.0551268029212952 tensor(0.6325)\n",
            "Epoch: 7 Train Loss: 1.0551268029212952 Val Loss: 0 Train Acc: tensor(0.6325) Val Acc: 0 Train recall: 0.7435897435897436 Val: recall 0\n",
            "Epoch Done 1.0384318619966506 tensor(0.6062)\n",
            "Epoch: 8 Train Loss: 1.0384318619966506 Val Loss: 0 Train Acc: tensor(0.6062) Val Acc: 0 Train recall: 0.7371794871794872 Val: recall 0\n",
            "Epoch Done 1.0022262245416642 tensor(0.6787)\n",
            "Epoch: 9 Train Loss: 1.0022262245416642 Val Loss: 0 Train Acc: tensor(0.6787) Val Acc: 0 Train recall: 0.6794871794871795 Val: recall 0\n",
            "Epoch Done 0.9660509300231933 tensor(0.6862)\n",
            "Epoch: 10 Train Loss: 0.9660509300231933 Val Loss: 0 Train Acc: tensor(0.6862) Val Acc: 0 Train recall: 0.7435897435897436 Val: recall 0\n",
            "Epoch Done 0.922313378751278 tensor(0.6825)\n",
            "Epoch: 11 Train Loss: 0.922313378751278 Val Loss: 0 Train Acc: tensor(0.6825) Val Acc: 0 Train recall: 0.7371794871794872 Val: recall 0\n",
            "Epoch Done 0.9110342711210251 tensor(0.7150)\n",
            "Epoch: 12 Train Loss: 0.9110342711210251 Val Loss: 0 Train Acc: tensor(0.7150) Val Acc: 0 Train recall: 0.7051282051282052 Val: recall 0\n",
            "Epoch Done 0.9135984754562378 tensor(0.7050)\n",
            "Epoch: 13 Train Loss: 0.9135984754562378 Val Loss: 0 Train Acc: tensor(0.7050) Val Acc: 0 Train recall: 0.75 Val: recall 0\n",
            "Epoch Done 0.865403513610363 tensor(0.7538)\n",
            "Epoch: 14 Train Loss: 0.865403513610363 Val Loss: 0 Train Acc: tensor(0.7538) Val Acc: 0 Train recall: 0.7756410256410257 Val: recall 0\n",
            "\n"
          ],
          "name": "stdout"
        }
      ]
    },
    {
      "cell_type": "code",
      "metadata": {
        "id": "YUHeZwM1OW7M",
        "colab": {
          "base_uri": "https://localhost:8080/",
          "height": 1000
        },
        "outputId": "b137ce76-57e2-4baa-d727-1e0a730ca47c"
      },
      "source": [
        "classification.logs.plot_acc()\n",
        "classification.logs.plot_loss()\n",
        "classification.logs.plot_precision()\n",
        "classification.logs.plot_recall()\n",
        "classification.logs.plot_f1score()"
      ],
      "execution_count": null,
      "outputs": [
        {
          "output_type": "display_data",
          "data": {
            "image/png": "[encoded data removed]",
            "text/plain": [
              "<Figure size 432x288 with 1 Axes>"
            ]
          },
          "metadata": {
            "tags": [],
            "needs_background": "light"
          }
        },
        {
          "output_type": "display_data",
          "data": {
            "image/png": "[encoded data removed]",
            "text/plain": [
              "<Figure size 432x288 with 1 Axes>"
            ]
          },
          "metadata": {
            "tags": [],
            "needs_background": "light"
          }
        },
        {
          "output_type": "display_data",
          "data": {
            "image/png": "[encoded data removed]",
            "text/plain": [
              "<Figure size 432x288 with 1 Axes>"
            ]
          },
          "metadata": {
            "tags": [],
            "needs_background": "light"
          }
        },
        {
          "output_type": "display_data",
          "data": {
            "image/png": "[encoded data removed]",
            "text/plain": [
              "<Figure size 432x288 with 1 Axes>"
            ]
          },
          "metadata": {
            "tags": [],
            "needs_background": "light"
          }
        },
        {
          "output_type": "display_data",
          "data": {
            "image/png": "[encoded data removed]",
            "text/plain": [
              "<Figure size 432x288 with 1 Axes>"
            ]
          },
          "metadata": {
            "tags": [],
            "needs_background": "light"
          }
        }
      ]
    },
    {
      "cell_type": "markdown",
      "metadata": {
        "id": "wxg4jN6-hHny"
      },
      "source": [
        "# Test Set\n",
        "\n",
        "\n",
        "We continue by now running our optimally trained model on our test set, and assess the results obtained. This will give us an idea of how our model performs in real life scenarios with images that have yet to be seen."
      ]
    },
    {
      "cell_type": "code",
      "metadata": {
        "id": "utzvs0ZzToxz",
        "colab": {
          "base_uri": "https://localhost:8080/"
        },
        "outputId": "4bec21a5-7f35-42e9-fba6-104b9cef49f9"
      },
      "source": [
        "test_set = get_testet()\n",
        "classification_test = Classification(train_set=train_set, val_set=val_set, lr=1e-6, batch_size=8, weight_fraction=torch.tensor(fraction))\n",
        "classification_test.net.load_state_dict(torch.load(path_final)['model_state_dict'])\n",
        "\n",
        "classification_test.net.eval()\n",
        "classification_test.evaluate_test_performance(test_set)"
      ],
      "execution_count": null,
      "outputs": [
        {
          "output_type": "stream",
          "text": [
            "[[0.0], [0.0], [1.0], [0.0], [0.0], [1.0], [1.0], [0.0], [0.0], [0.0], [0.0], [1.0], [0.0], [0.0], [1.0], [0.0], [0.0], [0.0], [0.0], [1.0], [0.0], [0.0], [1.0], [0.0], [0.0], [0.0], [0.0], [0.0], [1.0], [0.0], [0.0], [0.0], [0.0], [0.0], [0.0], [1.0], [1.0], [1.0], [0.0], [0.0], [0.0], [0.0], [0.0], [1.0], [0.0], [0.0], [0.0], [0.0], [0.0], [0.0], [0.0], [1.0], [1.0], [0.0], [0.0], [0.0], [0.0], [0.0], [0.0], [0.0], [0.0], [0.0], [0.0], [0.0], [0.0], [1.0], [1.0], [0.0], [1.0], [0.0], [0.0], [0.0], [0.0], [0.0], [1.0], [0.0], [0.0], [0.0], [0.0], [0.0], [0.0], [0.0], [0.0], [0.0], [0.0], [0.0], [0.0], [0.0], [0.0], [0.0], [1.0], [0.0], [0.0], [1.0], [1.0], [0.0], [0.0], [1.0], [0.0], [0.0], [0.0], [0.0], [0.0], [0.0], [0.0], [0.0], [1.0], [0.0], [0.0], [0.0], [0.0], [0.0], [1.0], [0.0], [1.0], [0.0], [0.0], [0.0], [0.0], [0.0], [0.0], [0.0], [0.0], [0.0], [0.0], [0.0], [0.0], [0.0], [0.0], [1.0], [0.0], [0.0], [0.0], [0.0], [0.0], [0.0], [1.0], [0.0], [0.0], [0.0], [0.0], [0.0], [0.0], [1.0], [0.0], [0.0], [1.0], [1.0], [0.0], [0.0], [0.0], [0.0], [0.0], [0.0], [0.0], [0.0], [0.0], [0.0], [0.0], [0.0], [0.0], [0.0], [0.0], [0.0], [0.0], [0.0], [0.0], [0.0], [0.0], [1.0], [0.0], [1.0], [0.0], [0.0], [0.0], [0.0], [0.0], [1.0], [0.0], [0.0], [0.0], [0.0], [0.0], [0.0], [0.0], [1.0], [0.0], [0.0], [1.0], [0.0], [1.0], [0.0], [0.0], [1.0], [0.0], [0.0], [1.0], [0.0], [0.0], [0.0], [0.0], [0.0], [0.0], [0.0], [0.0], [0.0], [0.0], [0.0], [0.0], [0.0], [0.0], [0.0], [0.0], [0.0], [1.0], [1.0], [0.0], [0.0], [0.0], [0.0], [1.0], [0.0], [1.0], [1.0], [0.0], [1.0], [0.0], [0.0], [1.0], [0.0], [1.0], [0.0], [0.0], [1.0], [0.0], [0.0], [0.0], [1.0], [0.0], [0.0], [0.0], [0.0], [0.0], [0.0], [0.0], [0.0], [0.0], [0.0], [0.0], [0.0], [0.0], [0.0], [0.0], [0.0], [0.0], [0.0], [0.0], [0.0], [0.0], [0.0], [0.0], [1.0], [0.0], [0.0], [0.0], [1.0], [0.0], [0.0], [0.0], [1.0], [0.0], [0.0], [0.0], [1.0], [1.0], [0.0], [0.0], [1.0], [0.0], [0.0], [1.0], [0.0], [0.0], [1.0], [1.0], [1.0], [0.0], [1.0], [0.0], [1.0], [0.0], [0.0], [1.0], [1.0], [0.0], [1.0], [0.0], [0.0], [1.0], [0.0], [0.0], [0.0], [0.0], [0.0], [0.0], [0.0], [0.0], [0.0], [1.0], [0.0], [0.0], [0.0], [0.0], [0.0], [0.0], [0.0], [0.0], [0.0], [1.0], [0.0], [0.0], [0.0], [0.0], [0.0], [0.0], [0.0], [1.0], [1.0], [0.0], [0.0], [0.0], [0.0], [1.0], [0.0], [0.0], [0.0], [0.0], [0.0], [0.0], [0.0], [0.0], [1.0], [0.0], [0.0], [0.0], [0.0], [0.0], [0.0], [0.0], [0.0], [0.0], [0.0], [0.0], [1.0], [0.0], [1.0], [0.0], [0.0], [1.0], [1.0], [0.0], [0.0], [0.0], [1.0], [0.0], [0.0], [0.0], [0.0], [0.0], [0.0], [0.0], [1.0], [0.0], [1.0], [0.0], [1.0], [0.0], [0.0], [0.0], [0.0], [1.0], [0.0], [0.0], [0.0], [0.0], [0.0], [0.0], [0.0], [0.0], [0.0], [1.0], [0.0], [0.0], [0.0], [0.0], [0.0], [1.0], [1.0], [1.0], [1.0], [0.0], [0.0], [1.0], [0.0], [0.0], [1.0], [0.0], [0.0], [0.0], [0.0], [0.0], [0.0], [1.0], [0.0], [0.0], [1.0], [0.0], [0.0], [0.0], [0.0], [0.0], [0.0], [0.0], [0.0], [0.0], [0.0], [0.0], [1.0], [1.0], [1.0], [0.0], [1.0], [0.0], [0.0], [0.0], [0.0], [0.0], [0.0], [1.0], [0.0], [0.0], [0.0], [1.0], [0.0], [0.0], [1.0], [0.0], [0.0], [0.0], [1.0], [0.0], [0.0], [0.0], [1.0], [1.0], [0.0], [0.0], [0.0], [0.0], [0.0], [0.0], [0.0], [0.0], [0.0], [0.0], [0.0], [0.0], [0.0], [0.0], [0.0], [0.0], [0.0], [0.0], [0.0], [0.0], [0.0], [0.0], [0.0], [0.0], [0.0], [0.0], [0.0], [0.0], [1.0], [0.0], [1.0], [0.0], [0.0], [1.0], [0.0], [0.0], [0.0], [0.0], [0.0], [1.0], [1.0], [0.0], [0.0], [0.0], [0.0], [1.0], [0.0], [0.0], [1.0], [0.0], [0.0], [0.0], [0.0], [1.0], [0.0], [0.0], [0.0], [0.0], [0.0], [0.0], [0.0], [0.0], [0.0], [0.0], [0.0], [0.0], [1.0], [0.0], [0.0], [0.0], [1.0], [0.0], [0.0], [0.0], [0.0], [0.0], [0.0], [1.0], [0.0], [0.0], [0.0], [0.0], [0.0], [0.0], [0.0], [0.0], [0.0], [1.0], [1.0], [0.0], [0.0], [0.0], [0.0], [1.0], [0.0], [0.0], [0.0], [0.0], [0.0], [0.0], [1.0], [1.0], [0.0], [0.0], [0.0], [0.0], [0.0], [0.0], [0.0], [0.0], [0.0], [0.0], [0.0], [0.0], [0.0], [0.0], [1.0], [1.0], [0.0], [0.0], [0.0], [0.0], [0.0], [0.0], [0.0], [0.0], [0.0], [0.0], [0.0], [0.0], [0.0], [0.0], [0.0], [0.0], [0.0], [1.0], [0.0], [0.0], [0.0], [0.0], [0.0], [0.0], [0.0], [0.0], [0.0]]\n",
            "[[0.5478989481925964], [0.5500398874282837], [0.7097271084785461], [0.27771201729774475], [0.1342773139476776], [0.2905968725681305], [0.7974523901939392], [0.48437511920928955], [0.1128898486495018], [0.48712024092674255], [0.2965503931045532], [0.8376750946044922], [0.34828075766563416], [0.6662612557411194], [0.7822005152702332], [0.09959650784730911], [0.7468973398208618], [0.08217907696962357], [0.0636366531252861], [0.9360287189483643], [0.06849227100610733], [0.2820079028606415], [0.20733673870563507], [0.6785169243812561], [0.7245650291442871], [0.46613290905952454], [0.1517912894487381], [0.5659620761871338], [0.4481923282146454], [0.4138181507587433], [0.22486262023448944], [0.18024739623069763], [0.42847806215286255], [0.12895116209983826], [0.3160707950592041], [0.25795650482177734], [0.6891059875488281], [0.23970314860343933], [0.6850242614746094], [0.4704629182815552], [0.3674096167087555], [0.025802748277783394], [0.16886940598487854], [0.8897253274917603], [0.6768372058868408], [0.46082308888435364], [0.3811756372451782], [0.3376751244068146], [0.16323447227478027], [0.27334165573120117], [0.8799899220466614], [0.24268710613250732], [0.6743795275688171], [0.4068191349506378], [0.5283041000366211], [0.10409846901893616], [0.3479004204273224], [0.5131903290748596], [0.46906450390815735], [0.7712686657905579], [0.08991440385580063], [0.05249536782503128], [0.4612198770046234], [0.027359582483768463], [0.4748879075050354], [0.4850045144557953], [0.6667725443840027], [0.19133345782756805], [0.7905493974685669], [0.38500189781188965], [0.40190446376800537], [0.16595368087291718], [0.5600185394287109], [0.35120439529418945], [0.8634998798370361], [0.5941033363342285], [0.3576081693172455], [0.4721384346485138], [0.5610308051109314], [0.7383092045783997], [0.03886397182941437], [0.09890954941511154], [0.4187072515487671], [0.060647860169410706], [0.3514530062675476], [0.14973817765712738], [0.6295359134674072], [0.023795394226908684], [0.0801742747426033], [0.42770084738731384], [0.6383585929870605], [0.15082764625549316], [0.21556855738162994], [0.23317882418632507], [0.6776697635650635], [0.6700680255889893], [0.6091557145118713], [0.7225826382637024], [0.5184250473976135], [0.36678987741470337], [0.3690631687641144], [0.8453507423400879], [0.07543549686670303], [0.3349761366844177], [0.41270166635513306], [0.17937026917934418], [0.7460511326789856], [0.41105514764785767], [0.36103421449661255], [0.7374891638755798], [0.6940675973892212], [0.430855929851532], [0.647403359413147], [0.35152697563171387], [0.05292864888906479], [0.059845663607120514], [0.08428731560707092], [0.6589534878730774], [0.1924542486667633], [0.1265249252319336], [0.24967744946479797], [0.5782079696655273], [0.5914143919944763], [0.4426855444908142], [0.12221856415271759], [0.15309524536132812], [0.5000759363174438], [0.3362901210784912], [0.3238588273525238], [0.7955983877182007], [0.42883729934692383], [0.13366791605949402], [0.2507016658782959], [0.47267284989356995], [0.17301620543003082], [0.2866227328777313], [0.22123181819915771], [0.5553248524665833], [0.5772410035133362], [0.47219109535217285], [0.5261398553848267], [0.6866342425346375], [0.4556933343410492], [0.4307123124599457], [0.7836709022521973], [0.6614564657211304], [0.440912127494812], [0.4590590298175812], [0.18713568150997162], [0.6311830282211304], [0.33069026470184326], [0.12102853506803513], [0.12277331948280334], [0.8165127635002136], [0.3819102346897125], [0.5778984427452087], [0.44138702750205994], [0.06573456525802612], [0.08824228495359421], [0.5263539552688599], [0.23106636106967926], [0.4913980960845947], [0.4752345383167267], [0.7335056066513062], [0.23386983573436737], [0.15039445459842682], [0.2708795368671417], [0.4621448218822479], [0.3914972245693207], [0.5159972906112671], [0.46979379653930664], [0.7570087909698486], [0.5982963442802429], [0.15173816680908203], [0.6275500059127808], [0.6228921413421631], [0.6791680455207825], [0.6474344730377197], [0.4890330135822296], [0.7079977989196777], [0.1278952956199646], [0.08597569167613983], [0.3915535509586334], [0.5136591196060181], [0.2836778163909912], [0.722704291343689], [0.5119186639785767], [0.6356534957885742], [0.4725523889064789], [0.2391633838415146], [0.7462983727455139], [0.5410807728767395], [0.5706712603569031], [0.5208516716957092], [0.3271579444408417], [0.2623424828052521], [0.27327385544776917], [0.4902389347553253], [0.41889625787734985], [0.7216359972953796], [0.21577617526054382], [0.8822451829910278], [0.7438612580299377], [0.29495736956596375], [0.12857294082641602], [0.7628920078277588], [0.5181818008422852], [0.894141435623169], [0.4724634885787964], [0.3290799856185913], [0.4573710560798645], [0.5950888991355896], [0.6630292534828186], [0.4279581606388092], [0.7670764923095703], [0.8471210598945618], [0.4805537760257721], [0.6448355913162231], [0.14124809205532074], [0.4018070101737976], [0.8954683542251587], [0.1560288518667221], [0.31465134024620056], [0.18875347077846527], [0.04167354851961136], [0.5400914549827576], [0.17187850177288055], [0.5327534079551697], [0.8209206461906433], [0.5784229040145874], [0.7555621266365051], [0.6685397624969482], [0.13056737184524536], [0.7748470902442932], [0.41279464960098267], [0.28058865666389465], [0.4592098295688629], [0.5208877921104431], [0.10780786722898483], [0.5206034183502197], [0.3940706253051758], [0.2890413999557495], [0.20028838515281677], [0.5133625268936157], [0.7212676405906677], [0.50150465965271], [0.2500445544719696], [0.46394962072372437], [0.21846409142017365], [0.7090425491333008], [0.536383867263794], [0.420299232006073], [0.4866901636123657], [0.6208385825157166], [0.07514537125825882], [0.6748718023300171], [0.8372372388839722], [0.6369185447692871], [0.4148997664451599], [0.6921697854995728], [0.273089736700058], [0.2948338985443115], [0.5098402500152588], [0.4892885684967041], [0.4374985694885254], [0.72747403383255], [0.32914498448371887], [0.16706398129463196], [0.5809935331344604], [0.7597584128379822], [0.8973119854927063], [0.7700989246368408], [0.12742844223976135], [0.8477547764778137], [0.7928802371025085], [0.12480197846889496], [0.5177090764045715], [0.7245610952377319], [0.05598801374435425], [0.3880046010017395], [0.8155884146690369], [0.3329722285270691], [0.25023794174194336], [0.5786423683166504], [0.4499017894268036], [0.7881841659545898], [0.3549584150314331], [0.49916741251945496], [0.13692772388458252], [0.6504451632499695], [0.10836037993431091], [0.38436514139175415], [0.5541411638259888], [0.6034795641899109], [0.6068767309188843], [0.47306936979293823], [0.6934201121330261], [0.589345395565033], [0.22384381294250488], [0.2997821867465973], [0.230559840798378], [0.39631426334381104], [0.4371313452720642], [0.5096374750137329], [0.22427695989608765], [0.6054380536079407], [0.3148610591888428], [0.05997763201594353], [0.27847763895988464], [0.1251879334449768], [0.7346519231796265], [0.46410492062568665], [0.018870193511247635], [0.2670009434223175], [0.3257210850715637], [0.44270339608192444], [0.3407747745513916], [0.30475783348083496], [0.5833331942558289], [0.2297206073999405], [0.1452661007642746], [0.6916460394859314], [0.24694229662418365], [0.22916147112846375], [0.28176355361938477], [0.7132899761199951], [0.38892579078674316], [0.6826172471046448], [0.13356755673885345], [0.5236914753913879], [0.6278751492500305], [0.6352728605270386], [0.21283037960529327], [0.12600889801979065], [0.2896347641944885], [0.35881099104881287], [0.33224737644195557], [0.3914337158203125], [0.18918389081954956], [0.7201550006866455], [0.06734303385019302], [0.9010539650917053], [0.4233544170856476], [0.635733425617218], [0.9186083078384399], [0.24325759708881378], [0.2658388018608093], [0.42918306589126587], [0.08525236696004868], [0.19781656563282013], [0.5289974212646484], [0.31762444972991943], [0.5159658789634705], [0.6573613882064819], [0.017751874402165413], [0.4439719319343567], [0.37631529569625854], [0.08290228992700577], [0.4178604185581207], [0.8425267934799194], [0.16660688817501068], [0.5543713569641113], [0.5188477039337158], [0.40142354369163513], [0.7218242883682251], [0.1431831270456314], [0.409267395734787], [0.4609276354312897], [0.5157458782196045], [0.1874765008687973], [0.13479921221733093], [0.39391928911209106], [0.22946953773498535], [0.33885419368743896], [0.0613907165825367], [0.7575206756591797], [0.558775007724762], [0.09984424710273743], [0.43901562690734863], [0.4588066041469574], [0.1980685442686081], [0.2516789436340332], [0.2159624695777893], [0.6821309924125671], [0.44319337606430054], [0.4631972014904022], [0.1638268381357193], [0.05323974788188934], [0.37209659814834595], [0.6840325593948364], [0.1501689851284027], [0.10739532858133316], [0.3863888382911682], [0.42839184403419495], [0.6026862859725952], [0.42915067076683044], [0.7738015055656433], [0.13159281015396118], [0.4916595220565796], [0.18511775135993958], [0.17643730342388153], [0.41206979751586914], [0.7014849781990051], [0.2606515884399414], [0.10146722197532654], [0.7026517391204834], [0.18713568150997162], [0.49236127734184265], [0.574931800365448], [0.05762598291039467], [0.16946817934513092], [0.5456876158714294], [0.8607390522956848], [0.462446004152298], [0.5050725340843201], [0.8588212728500366], [0.21244193613529205], [0.49610912799835205], [0.18260326981544495], [0.2627618908882141], [0.2722589373588562], [0.4542091488838196], [0.6449414491653442], [0.0976811870932579], [0.8177411556243896], [0.15768229961395264], [0.4415827989578247], [0.8364706039428711], [0.37009790539741516], [0.7066386938095093], [0.5577572584152222], [0.6437123417854309], [0.270537793636322], [0.6200098395347595], [0.18888680636882782], [0.5297663807868958], [0.7476653456687927], [0.699832022190094], [0.5400466918945312], [0.34071406722068787], [0.43758291006088257], [0.050775784999132156], [0.23905052244663239], [0.06399610638618469], [0.4721977412700653], [0.6388441920280457], [0.5957940816879272], [0.48389431834220886], [0.2595466375350952], [0.7406010031700134], [0.4028412997722626], [0.6608335971832275], [0.423252671957016], [0.25906360149383545], [0.3405703008174896], [0.549508273601532], [0.14103321731090546], [0.13807186484336853], [0.4414621889591217], [0.6390277743339539], [0.04103297367691994], [0.41865867376327515], [0.08875538408756256], [0.24494849145412445], [0.09545185416936874], [0.00311068631708622], [0.23568934202194214], [0.23434978723526], [0.3792724907398224], [0.5633118152618408], [0.4925459921360016], [0.2692265510559082], [0.13467219471931458], [0.5663477182388306], [0.666698694229126], [0.26863810420036316], [0.23220780491828918], [0.25900670886039734], [0.024567825719714165], [0.35804471373558044], [0.5248105525970459], [0.17192906141281128], [0.5727249383926392], [0.508472204208374], [0.6239878535270691], [0.6703449487686157], [0.05441737547516823], [0.8236303329467773], [0.30112919211387634], [0.07613303512334824], [0.3931795060634613], [0.2889392673969269], [0.31396588683128357], [0.7383090257644653], [0.3669233024120331], [0.23678086698055267], [0.6620581746101379], [0.8619192838668823], [0.3200666606426239], [0.1080043688416481], [0.8941141963005066], [0.0559585839509964], [0.8267204761505127], [0.6600642204284668], [0.11813109368085861], [0.8062154650688171], [0.2828178107738495], [0.41764721274375916], [0.5030556917190552], [0.34825819730758667], [0.175183966755867], [0.40633901953697205], [0.783818244934082], [0.4627588987350464], [0.12453201413154602], [0.6996534466743469], [0.18261128664016724], [0.36298027634620667], [0.2748950719833374], [0.4012591242790222], [0.6352728605270386], [0.5002893805503845], [0.28817975521087646], [0.3225133717060089], [0.555767297744751], [0.8890740871429443], [0.2503812909126282], [0.06744430214166641], [0.37200918793678284], [0.431907057762146], [0.1712304651737213], [0.5178195834159851], [0.766706645488739], [0.72173011302948], [0.45945417881011963], [0.24653491377830505], [0.14881020784378052], [0.36999964714050293], [0.06474258005619049], [0.38995009660720825], [0.19418293237686157], [0.3679406940937042], [0.47601205110549927], [0.23792845010757446], [0.7628278136253357], [0.7871016263961792], [0.3950076997280121], [0.6871570348739624], [0.8253499269485474], [0.27645617723464966], [0.18265247344970703], [0.6247478723526001], [0.27232658863067627], [0.34041866660118103], [0.5079280138015747], [0.8031249642372131], [0.5748433470726013], [0.2666391432285309], [0.4304586946964264], [0.24622632563114166], [0.2929476797580719], [0.40277099609375], [0.7426696419715881], [0.4565597474575043], [0.13633660972118378], [0.16891725361347198], [0.1428905427455902], [0.4327237010002136], [0.36448025703430176], [0.13530531525611877], [0.7967188954353333], [0.09963862597942352], [0.8980317711830139], [0.2651882469654083], [0.8516842722892761], [0.134738951921463], [0.7869405746459961], [0.14371097087860107], [0.12993377447128296], [0.9619408249855042], [0.20092308521270752], [0.09593994170427322], [0.04908546432852745], [0.6173627376556396], [0.4500845670700073], [0.5730283856391907], [0.37113046646118164], [0.20352846384048462], [0.11271283030509949], [0.1858927458524704], [0.8593673706054688], [0.6971153616905212], [0.558320939540863], [0.2348112165927887], [0.4075976014137268], [0.5788328647613525], [0.6440806984901428], [0.1725400984287262], [0.23630622029304504], [0.6125143766403198]]\n",
            "[0.5478989481925964, 0.5500398874282837, 0.7097271084785461, 0.27771201729774475, 0.1342773139476776, 0.2905968725681305, 0.7974523901939392, 0.48437511920928955, 0.1128898486495018, 0.48712024092674255, 0.2965503931045532, 0.8376750946044922, 0.34828075766563416, 0.6662612557411194, 0.7822005152702332, 0.09959650784730911, 0.7468973398208618, 0.08217907696962357, 0.0636366531252861, 0.9360287189483643, 0.06849227100610733, 0.2820079028606415, 0.20733673870563507, 0.6785169243812561, 0.7245650291442871, 0.46613290905952454, 0.1517912894487381, 0.5659620761871338, 0.4481923282146454, 0.4138181507587433, 0.22486262023448944, 0.18024739623069763, 0.42847806215286255, 0.12895116209983826, 0.3160707950592041, 0.25795650482177734, 0.6891059875488281, 0.23970314860343933, 0.6850242614746094, 0.4704629182815552, 0.3674096167087555, 0.025802748277783394, 0.16886940598487854, 0.8897253274917603, 0.6768372058868408, 0.46082308888435364, 0.3811756372451782, 0.3376751244068146, 0.16323447227478027, 0.27334165573120117, 0.8799899220466614, 0.24268710613250732, 0.6743795275688171, 0.4068191349506378, 0.5283041000366211, 0.10409846901893616, 0.3479004204273224, 0.5131903290748596, 0.46906450390815735, 0.7712686657905579, 0.08991440385580063, 0.05249536782503128, 0.4612198770046234, 0.027359582483768463, 0.4748879075050354, 0.4850045144557953, 0.6667725443840027, 0.19133345782756805, 0.7905493974685669, 0.38500189781188965, 0.40190446376800537, 0.16595368087291718, 0.5600185394287109, 0.35120439529418945, 0.8634998798370361, 0.5941033363342285, 0.3576081693172455, 0.4721384346485138, 0.5610308051109314, 0.7383092045783997, 0.03886397182941437, 0.09890954941511154, 0.4187072515487671, 0.060647860169410706, 0.3514530062675476, 0.14973817765712738, 0.6295359134674072, 0.023795394226908684, 0.0801742747426033, 0.42770084738731384, 0.6383585929870605, 0.15082764625549316, 0.21556855738162994, 0.23317882418632507, 0.6776697635650635, 0.6700680255889893, 0.6091557145118713, 0.7225826382637024, 0.5184250473976135, 0.36678987741470337, 0.3690631687641144, 0.8453507423400879, 0.07543549686670303, 0.3349761366844177, 0.41270166635513306, 0.17937026917934418, 0.7460511326789856, 0.41105514764785767, 0.36103421449661255, 0.7374891638755798, 0.6940675973892212, 0.430855929851532, 0.647403359413147, 0.35152697563171387, 0.05292864888906479, 0.059845663607120514, 0.08428731560707092, 0.6589534878730774, 0.1924542486667633, 0.1265249252319336, 0.24967744946479797, 0.5782079696655273, 0.5914143919944763, 0.4426855444908142, 0.12221856415271759, 0.15309524536132812, 0.5000759363174438, 0.3362901210784912, 0.3238588273525238, 0.7955983877182007, 0.42883729934692383, 0.13366791605949402, 0.2507016658782959, 0.47267284989356995, 0.17301620543003082, 0.2866227328777313, 0.22123181819915771, 0.5553248524665833, 0.5772410035133362, 0.47219109535217285, 0.5261398553848267, 0.6866342425346375, 0.4556933343410492, 0.4307123124599457, 0.7836709022521973, 0.6614564657211304, 0.440912127494812, 0.4590590298175812, 0.18713568150997162, 0.6311830282211304, 0.33069026470184326, 0.12102853506803513, 0.12277331948280334, 0.8165127635002136, 0.3819102346897125, 0.5778984427452087, 0.44138702750205994, 0.06573456525802612, 0.08824228495359421, 0.5263539552688599, 0.23106636106967926, 0.4913980960845947, 0.4752345383167267, 0.7335056066513062, 0.23386983573436737, 0.15039445459842682, 0.2708795368671417, 0.4621448218822479, 0.3914972245693207, 0.5159972906112671, 0.46979379653930664, 0.7570087909698486, 0.5982963442802429, 0.15173816680908203, 0.6275500059127808, 0.6228921413421631, 0.6791680455207825, 0.6474344730377197, 0.4890330135822296, 0.7079977989196777, 0.1278952956199646, 0.08597569167613983, 0.3915535509586334, 0.5136591196060181, 0.2836778163909912, 0.722704291343689, 0.5119186639785767, 0.6356534957885742, 0.4725523889064789, 0.2391633838415146, 0.7462983727455139, 0.5410807728767395, 0.5706712603569031, 0.5208516716957092, 0.3271579444408417, 0.2623424828052521, 0.27327385544776917, 0.4902389347553253, 0.41889625787734985, 0.7216359972953796, 0.21577617526054382, 0.8822451829910278, 0.7438612580299377, 0.29495736956596375, 0.12857294082641602, 0.7628920078277588, 0.5181818008422852, 0.894141435623169, 0.4724634885787964, 0.3290799856185913, 0.4573710560798645, 0.5950888991355896, 0.6630292534828186, 0.4279581606388092, 0.7670764923095703, 0.8471210598945618, 0.4805537760257721, 0.6448355913162231, 0.14124809205532074, 0.4018070101737976, 0.8954683542251587, 0.1560288518667221, 0.31465134024620056, 0.18875347077846527, 0.04167354851961136, 0.5400914549827576, 0.17187850177288055, 0.5327534079551697, 0.8209206461906433, 0.5784229040145874, 0.7555621266365051, 0.6685397624969482, 0.13056737184524536, 0.7748470902442932, 0.41279464960098267, 0.28058865666389465, 0.4592098295688629, 0.5208877921104431, 0.10780786722898483, 0.5206034183502197, 0.3940706253051758, 0.2890413999557495, 0.20028838515281677, 0.5133625268936157, 0.7212676405906677, 0.50150465965271, 0.2500445544719696, 0.46394962072372437, 0.21846409142017365, 0.7090425491333008, 0.536383867263794, 0.420299232006073, 0.4866901636123657, 0.6208385825157166, 0.07514537125825882, 0.6748718023300171, 0.8372372388839722, 0.6369185447692871, 0.4148997664451599, 0.6921697854995728, 0.273089736700058, 0.2948338985443115, 0.5098402500152588, 0.4892885684967041, 0.4374985694885254, 0.72747403383255, 0.32914498448371887, 0.16706398129463196, 0.5809935331344604, 0.7597584128379822, 0.8973119854927063, 0.7700989246368408, 0.12742844223976135, 0.8477547764778137, 0.7928802371025085, 0.12480197846889496, 0.5177090764045715, 0.7245610952377319, 0.05598801374435425, 0.3880046010017395, 0.8155884146690369, 0.3329722285270691, 0.25023794174194336, 0.5786423683166504, 0.4499017894268036, 0.7881841659545898, 0.3549584150314331, 0.49916741251945496, 0.13692772388458252, 0.6504451632499695, 0.10836037993431091, 0.38436514139175415, 0.5541411638259888, 0.6034795641899109, 0.6068767309188843, 0.47306936979293823, 0.6934201121330261, 0.589345395565033, 0.22384381294250488, 0.2997821867465973, 0.230559840798378, 0.39631426334381104, 0.4371313452720642, 0.5096374750137329, 0.22427695989608765, 0.6054380536079407, 0.3148610591888428, 0.05997763201594353, 0.27847763895988464, 0.1251879334449768, 0.7346519231796265, 0.46410492062568665, 0.018870193511247635, 0.2670009434223175, 0.3257210850715637, 0.44270339608192444, 0.3407747745513916, 0.30475783348083496, 0.5833331942558289, 0.2297206073999405, 0.1452661007642746, 0.6916460394859314, 0.24694229662418365, 0.22916147112846375, 0.28176355361938477, 0.7132899761199951, 0.38892579078674316, 0.6826172471046448, 0.13356755673885345, 0.5236914753913879, 0.6278751492500305, 0.6352728605270386, 0.21283037960529327, 0.12600889801979065, 0.2896347641944885, 0.35881099104881287, 0.33224737644195557, 0.3914337158203125, 0.18918389081954956, 0.7201550006866455, 0.06734303385019302, 0.9010539650917053, 0.4233544170856476, 0.635733425617218, 0.9186083078384399, 0.24325759708881378, 0.2658388018608093, 0.42918306589126587, 0.08525236696004868, 0.19781656563282013, 0.5289974212646484, 0.31762444972991943, 0.5159658789634705, 0.6573613882064819, 0.017751874402165413, 0.4439719319343567, 0.37631529569625854, 0.08290228992700577, 0.4178604185581207, 0.8425267934799194, 0.16660688817501068, 0.5543713569641113, 0.5188477039337158, 0.40142354369163513, 0.7218242883682251, 0.1431831270456314, 0.409267395734787, 0.4609276354312897, 0.5157458782196045, 0.1874765008687973, 0.13479921221733093, 0.39391928911209106, 0.22946953773498535, 0.33885419368743896, 0.0613907165825367, 0.7575206756591797, 0.558775007724762, 0.09984424710273743, 0.43901562690734863, 0.4588066041469574, 0.1980685442686081, 0.2516789436340332, 0.2159624695777893, 0.6821309924125671, 0.44319337606430054, 0.4631972014904022, 0.1638268381357193, 0.05323974788188934, 0.37209659814834595, 0.6840325593948364, 0.1501689851284027, 0.10739532858133316, 0.3863888382911682, 0.42839184403419495, 0.6026862859725952, 0.42915067076683044, 0.7738015055656433, 0.13159281015396118, 0.4916595220565796, 0.18511775135993958, 0.17643730342388153, 0.41206979751586914, 0.7014849781990051, 0.2606515884399414, 0.10146722197532654, 0.7026517391204834, 0.18713568150997162, 0.49236127734184265, 0.574931800365448, 0.05762598291039467, 0.16946817934513092, 0.5456876158714294, 0.8607390522956848, 0.462446004152298, 0.5050725340843201, 0.8588212728500366, 0.21244193613529205, 0.49610912799835205, 0.18260326981544495, 0.2627618908882141, 0.2722589373588562, 0.4542091488838196, 0.6449414491653442, 0.0976811870932579, 0.8177411556243896, 0.15768229961395264, 0.4415827989578247, 0.8364706039428711, 0.37009790539741516, 0.7066386938095093, 0.5577572584152222, 0.6437123417854309, 0.270537793636322, 0.6200098395347595, 0.18888680636882782, 0.5297663807868958, 0.7476653456687927, 0.699832022190094, 0.5400466918945312, 0.34071406722068787, 0.43758291006088257, 0.050775784999132156, 0.23905052244663239, 0.06399610638618469, 0.4721977412700653, 0.6388441920280457, 0.5957940816879272, 0.48389431834220886, 0.2595466375350952, 0.7406010031700134, 0.4028412997722626, 0.6608335971832275, 0.423252671957016, 0.25906360149383545, 0.3405703008174896, 0.549508273601532, 0.14103321731090546, 0.13807186484336853, 0.4414621889591217, 0.6390277743339539, 0.04103297367691994, 0.41865867376327515, 0.08875538408756256, 0.24494849145412445, 0.09545185416936874, 0.00311068631708622, 0.23568934202194214, 0.23434978723526, 0.3792724907398224, 0.5633118152618408, 0.4925459921360016, 0.2692265510559082, 0.13467219471931458, 0.5663477182388306, 0.666698694229126, 0.26863810420036316, 0.23220780491828918, 0.25900670886039734, 0.024567825719714165, 0.35804471373558044, 0.5248105525970459, 0.17192906141281128, 0.5727249383926392, 0.508472204208374, 0.6239878535270691, 0.6703449487686157, 0.05441737547516823, 0.8236303329467773, 0.30112919211387634, 0.07613303512334824, 0.3931795060634613, 0.2889392673969269, 0.31396588683128357, 0.7383090257644653, 0.3669233024120331, 0.23678086698055267, 0.6620581746101379, 0.8619192838668823, 0.3200666606426239, 0.1080043688416481, 0.8941141963005066, 0.0559585839509964, 0.8267204761505127, 0.6600642204284668, 0.11813109368085861, 0.8062154650688171, 0.2828178107738495, 0.41764721274375916, 0.5030556917190552, 0.34825819730758667, 0.175183966755867, 0.40633901953697205, 0.783818244934082, 0.4627588987350464, 0.12453201413154602, 0.6996534466743469, 0.18261128664016724, 0.36298027634620667, 0.2748950719833374, 0.4012591242790222, 0.6352728605270386, 0.5002893805503845, 0.28817975521087646, 0.3225133717060089, 0.555767297744751, 0.8890740871429443, 0.2503812909126282, 0.06744430214166641, 0.37200918793678284, 0.431907057762146, 0.1712304651737213, 0.5178195834159851, 0.766706645488739, 0.72173011302948, 0.45945417881011963, 0.24653491377830505, 0.14881020784378052, 0.36999964714050293, 0.06474258005619049, 0.38995009660720825, 0.19418293237686157, 0.3679406940937042, 0.47601205110549927, 0.23792845010757446, 0.7628278136253357, 0.7871016263961792, 0.3950076997280121, 0.6871570348739624, 0.8253499269485474, 0.27645617723464966, 0.18265247344970703, 0.6247478723526001, 0.27232658863067627, 0.34041866660118103, 0.5079280138015747, 0.8031249642372131, 0.5748433470726013, 0.2666391432285309, 0.4304586946964264, 0.24622632563114166, 0.2929476797580719, 0.40277099609375, 0.7426696419715881, 0.4565597474575043, 0.13633660972118378, 0.16891725361347198, 0.1428905427455902, 0.4327237010002136, 0.36448025703430176, 0.13530531525611877, 0.7967188954353333, 0.09963862597942352, 0.8980317711830139, 0.2651882469654083, 0.8516842722892761, 0.134738951921463, 0.7869405746459961, 0.14371097087860107, 0.12993377447128296, 0.9619408249855042, 0.20092308521270752, 0.09593994170427322, 0.04908546432852745, 0.6173627376556396, 0.4500845670700073, 0.5730283856391907, 0.37113046646118164, 0.20352846384048462, 0.11271283030509949, 0.1858927458524704, 0.8593673706054688, 0.6971153616905212, 0.558320939540863, 0.2348112165927887, 0.4075976014137268, 0.5788328647613525, 0.6440806984901428, 0.1725400984287262, 0.23630622029304504, 0.6125143766403198]\n",
            "[0.0, 0.0, 1.0, 0.0, 0.0, 1.0, 1.0, 0.0, 0.0, 0.0, 0.0, 1.0, 0.0, 0.0, 1.0, 0.0, 0.0, 0.0, 0.0, 1.0, 0.0, 0.0, 1.0, 0.0, 0.0, 0.0, 0.0, 0.0, 1.0, 0.0, 0.0, 0.0, 0.0, 0.0, 0.0, 1.0, 1.0, 1.0, 0.0, 0.0, 0.0, 0.0, 0.0, 1.0, 0.0, 0.0, 0.0, 0.0, 0.0, 0.0, 0.0, 1.0, 1.0, 0.0, 0.0, 0.0, 0.0, 0.0, 0.0, 0.0, 0.0, 0.0, 0.0, 0.0, 0.0, 1.0, 1.0, 0.0, 1.0, 0.0, 0.0, 0.0, 0.0, 0.0, 1.0, 0.0, 0.0, 0.0, 0.0, 0.0, 0.0, 0.0, 0.0, 0.0, 0.0, 0.0, 0.0, 0.0, 0.0, 0.0, 1.0, 0.0, 0.0, 1.0, 1.0, 0.0, 0.0, 1.0, 0.0, 0.0, 0.0, 0.0, 0.0, 0.0, 0.0, 0.0, 1.0, 0.0, 0.0, 0.0, 0.0, 0.0, 1.0, 0.0, 1.0, 0.0, 0.0, 0.0, 0.0, 0.0, 0.0, 0.0, 0.0, 0.0, 0.0, 0.0, 0.0, 0.0, 0.0, 1.0, 0.0, 0.0, 0.0, 0.0, 0.0, 0.0, 1.0, 0.0, 0.0, 0.0, 0.0, 0.0, 0.0, 1.0, 0.0, 0.0, 1.0, 1.0, 0.0, 0.0, 0.0, 0.0, 0.0, 0.0, 0.0, 0.0, 0.0, 0.0, 0.0, 0.0, 0.0, 0.0, 0.0, 0.0, 0.0, 0.0, 0.0, 0.0, 0.0, 1.0, 0.0, 1.0, 0.0, 0.0, 0.0, 0.0, 0.0, 1.0, 0.0, 0.0, 0.0, 0.0, 0.0, 0.0, 0.0, 1.0, 0.0, 0.0, 1.0, 0.0, 1.0, 0.0, 0.0, 1.0, 0.0, 0.0, 1.0, 0.0, 0.0, 0.0, 0.0, 0.0, 0.0, 0.0, 0.0, 0.0, 0.0, 0.0, 0.0, 0.0, 0.0, 0.0, 0.0, 0.0, 1.0, 1.0, 0.0, 0.0, 0.0, 0.0, 1.0, 0.0, 1.0, 1.0, 0.0, 1.0, 0.0, 0.0, 1.0, 0.0, 1.0, 0.0, 0.0, 1.0, 0.0, 0.0, 0.0, 1.0, 0.0, 0.0, 0.0, 0.0, 0.0, 0.0, 0.0, 0.0, 0.0, 0.0, 0.0, 0.0, 0.0, 0.0, 0.0, 0.0, 0.0, 0.0, 0.0, 0.0, 0.0, 0.0, 0.0, 1.0, 0.0, 0.0, 0.0, 1.0, 0.0, 0.0, 0.0, 1.0, 0.0, 0.0, 0.0, 1.0, 1.0, 0.0, 0.0, 1.0, 0.0, 0.0, 1.0, 0.0, 0.0, 1.0, 1.0, 1.0, 0.0, 1.0, 0.0, 1.0, 0.0, 0.0, 1.0, 1.0, 0.0, 1.0, 0.0, 0.0, 1.0, 0.0, 0.0, 0.0, 0.0, 0.0, 0.0, 0.0, 0.0, 0.0, 1.0, 0.0, 0.0, 0.0, 0.0, 0.0, 0.0, 0.0, 0.0, 0.0, 1.0, 0.0, 0.0, 0.0, 0.0, 0.0, 0.0, 0.0, 1.0, 1.0, 0.0, 0.0, 0.0, 0.0, 1.0, 0.0, 0.0, 0.0, 0.0, 0.0, 0.0, 0.0, 0.0, 1.0, 0.0, 0.0, 0.0, 0.0, 0.0, 0.0, 0.0, 0.0, 0.0, 0.0, 0.0, 1.0, 0.0, 1.0, 0.0, 0.0, 1.0, 1.0, 0.0, 0.0, 0.0, 1.0, 0.0, 0.0, 0.0, 0.0, 0.0, 0.0, 0.0, 1.0, 0.0, 1.0, 0.0, 1.0, 0.0, 0.0, 0.0, 0.0, 1.0, 0.0, 0.0, 0.0, 0.0, 0.0, 0.0, 0.0, 0.0, 0.0, 1.0, 0.0, 0.0, 0.0, 0.0, 0.0, 1.0, 1.0, 1.0, 1.0, 0.0, 0.0, 1.0, 0.0, 0.0, 1.0, 0.0, 0.0, 0.0, 0.0, 0.0, 0.0, 1.0, 0.0, 0.0, 1.0, 0.0, 0.0, 0.0, 0.0, 0.0, 0.0, 0.0, 0.0, 0.0, 0.0, 0.0, 1.0, 1.0, 1.0, 0.0, 1.0, 0.0, 0.0, 0.0, 0.0, 0.0, 0.0, 1.0, 0.0, 0.0, 0.0, 1.0, 0.0, 0.0, 1.0, 0.0, 0.0, 0.0, 1.0, 0.0, 0.0, 0.0, 1.0, 1.0, 0.0, 0.0, 0.0, 0.0, 0.0, 0.0, 0.0, 0.0, 0.0, 0.0, 0.0, 0.0, 0.0, 0.0, 0.0, 0.0, 0.0, 0.0, 0.0, 0.0, 0.0, 0.0, 0.0, 0.0, 0.0, 0.0, 0.0, 0.0, 1.0, 0.0, 1.0, 0.0, 0.0, 1.0, 0.0, 0.0, 0.0, 0.0, 0.0, 1.0, 1.0, 0.0, 0.0, 0.0, 0.0, 1.0, 0.0, 0.0, 1.0, 0.0, 0.0, 0.0, 0.0, 1.0, 0.0, 0.0, 0.0, 0.0, 0.0, 0.0, 0.0, 0.0, 0.0, 0.0, 0.0, 0.0, 1.0, 0.0, 0.0, 0.0, 1.0, 0.0, 0.0, 0.0, 0.0, 0.0, 0.0, 1.0, 0.0, 0.0, 0.0, 0.0, 0.0, 0.0, 0.0, 0.0, 0.0, 1.0, 1.0, 0.0, 0.0, 0.0, 0.0, 1.0, 0.0, 0.0, 0.0, 0.0, 0.0, 0.0, 1.0, 1.0, 0.0, 0.0, 0.0, 0.0, 0.0, 0.0, 0.0, 0.0, 0.0, 0.0, 0.0, 0.0, 0.0, 0.0, 1.0, 1.0, 0.0, 0.0, 0.0, 0.0, 0.0, 0.0, 0.0, 0.0, 0.0, 0.0, 0.0, 0.0, 0.0, 0.0, 0.0, 0.0, 0.0, 1.0, 0.0, 0.0, 0.0, 0.0, 0.0, 0.0, 0.0, 0.0, 0.0]\n"
          ],
          "name": "stdout"
        },
        {
          "output_type": "display_data",
          "data": {
            "image/png": "[encoded data removed]",
            "text/plain": [
              "<Figure size 432x288 with 1 Axes>"
            ]
          },
          "metadata": {
            "tags": [],
            "needs_background": "light"
          }
        },
        {
          "output_type": "stream",
          "text": [
            "Accuracy:  tensor(0.6750) \n",
            "Precision:  0.32432432432432434 \n",
            "Recall:  0.6153846153846154 \n",
            "F1-Score:  0.4247787610619469\n"
          ],
          "name": "stdout"
        }
      ]
    }
  ]
}